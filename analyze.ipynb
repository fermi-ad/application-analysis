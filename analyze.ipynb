{
 "cells": [
  {
   "cell_type": "markdown",
   "metadata": {},
   "source": [
    "# Controls Application Analysis\n",
    "\n",
    "Here we dump metrics from all applications, console, java, etc. and collect them in a single data frame. This allows us to explore the data and discover insights that would be difficult to know otherwise."
   ]
  },
  {
   "cell_type": "markdown",
   "metadata": {
    "tags": []
   },
   "source": [
    "## Single Source of Truth\n",
    "\n",
    "We will keep all data in the `app_data.json` file. So, if you generate data that could be used for future analysis, add it to the `app_data` data frame and then write the data frame back to the `app_data.json` file.\n",
    "\n",
    "```python\n",
    "# Example data concatenation\n",
    "# app_data = pd.concat([app_data, line_data])\n",
    "app_data.to_json(\"app_data.json\", orient=\"records\", indent=2)\n",
    "```"
   ]
  },
  {
   "cell_type": "markdown",
   "metadata": {},
   "source": [
    "### Output to JSON\n",
    "\n",
    "If you uncomment this, it will output to `test.json`. Use this as a guide to update the `app_data.json` file. Check the changes with a print or the `test.json` file before committing changes to `app_data.json`."
   ]
  },
  {
   "cell_type": "code",
   "execution_count": 117,
   "metadata": {},
   "outputs": [],
   "source": [
    "# app_data = pd.read_json('app_data.json')\n",
    "# app_data = app_data.merge(line_data, on=\"program\")\n",
    "# app_data.to_json('test.json', orient='records', indent=2)"
   ]
  },
  {
   "cell_type": "markdown",
   "metadata": {},
   "source": [
    "## Imports\n",
    "\n",
    "To install these you can run `python3 -m pip install -r requirements.txt`."
   ]
  },
  {
   "cell_type": "code",
   "execution_count": 118,
   "metadata": {},
   "outputs": [],
   "source": [
    "import pandas as pd\n",
    "# Even though we don't use this, it has useful defaults, so let's keep it.\n",
    "import matplotlib.pyplot as plt\n",
    "import numpy as np\n",
    "from scipy import stats\n",
    "from scipy.optimize import curve_fit"
   ]
  },
  {
   "cell_type": "code",
   "execution_count": 125,
   "metadata": {},
   "outputs": [
    {
     "name": "stdout",
     "output_type": "stream",
     "text": [
      "517 elements made the cut out of 1287.\n"
     ]
    }
   ],
   "source": [
    "app_data = pd.read_json('app_data.json')\n",
    "\n",
    "# Define logical conditions to cut application from data\n",
    "nonobsolete_condition = app_data[\"status\"] == \"active\"\n",
    "nonzero_lines_condition = app_data[\"count\"]!=0\n",
    "\n",
    "# Logical AND all the conditions\n",
    "cut_condition = nonobsolete_condition*nonzero_lines_condition\n",
    "print(f'{np.where(cut_condition)[0].size} elements made the cut out of {np.asarray(app_data[\"count\"]).size}.')\n",
    "\n",
    "lines = np.asarray(app_data['count'])[np.where(cut_condition)]"
   ]
  },
  {
   "cell_type": "code",
   "execution_count": 120,
   "metadata": {},
   "outputs": [],
   "source": [
    "# Apply fit to data\n",
    "def func(x, a, b, c):\n",
    "    return a * np.exp(-1.0*(x/b)) + c # Exponential decay"
   ]
  },
  {
   "cell_type": "code",
   "execution_count": 121,
   "metadata": {},
   "outputs": [
    {
     "name": "stdout",
     "output_type": "stream",
     "text": [
      "Decay constant is 3355.7460005803287\n"
     ]
    },
    {
     "data": {
      "image/png": "[encoded data removed]",
      "text/plain": [
       "<Figure size 640x480 with 1 Axes>"
      ]
     },
     "metadata": {},
     "output_type": "display_data"
    }
   ],
   "source": [
    "x = np.linspace(0, lines.size - 1, lines.size)\n",
    "nbins = 100\n",
    "\n",
    "n, bin_borders, _ = plt.hist(lines, nbins, label=\"Binned Data\")\n",
    "bin_centers = bin_borders[:-1] + np.diff(bin_borders) / 2\n",
    "p0 = [1, 1E2, 1]\n",
    "popt, pcov = curve_fit(func, bin_centers, n, p0)\n",
    "plt.plot(bin_centers, func(bin_centers, *popt), 'r-', label=\"Exponential Fit\")\n",
    "#plt.xlim(0,50000)\n",
    "#plt.gca().set_yscale('log')\n",
    "cutoff = 5 # units of fit characteristic decay constant\n",
    "plt.axvline(x = cutoff*popt[1], ymin = 0, ymax = 1, color='green', label = f\"Cutoff = {cutoff}\"+r\"$\\lambda$\")\n",
    "plt.legend()\n",
    "\n",
    "print(f\"Decay constant is {popt[1]}\")\n",
    "\n",
    "# Compute total lines of code within the cutoff\n",
    "def find_nearest(array, value):\n",
    "    array = np.asarray(array)\n",
    "    idx = (np.abs(array - value)).argmin()\n",
    "    return array[idx]\n",
    "# Find index that is nearest to the cutoff, integrate number of lines up to cutoff\n",
    "# Note from Adam: I don't think this is working yet.\n",
    "#cutoff_index = np.where(lines == find_nearest(lines, func(x,*popt)))[0][0]\n",
    "#lines_at_cutoff = np.sum(lines[0:cutoff_index])\n",
    "#print(f\"Total lines of code up to cutoff is {lines_at_cutoff}\")"
   ]
  },
  {
   "cell_type": "code",
   "execution_count": 122,
   "metadata": {},
   "outputs": [
    {
     "name": "stdout",
     "output_type": "stream",
     "text": [
      "Mean: 7321, Median: 2641, Mode: 242, Sum: 3785050, Max: 216997\n"
     ]
    }
   ],
   "source": [
    "# Some statistics to see what's interesting\n",
    "mean = np.mean(lines)\n",
    "median = np.median(lines)\n",
    "mode = stats.mode(lines)[0]\n",
    "sum = np.sum(lines)\n",
    "max = np.max(lines)\n",
    "print(f\"Mean: {mean:.0f}, Median: {median:.0f}, Mode: {mode:.0f}, Sum: {sum:.0f}, Max: {max}\")"
   ]
  },
  {
   "cell_type": "code",
   "execution_count": 123,
   "metadata": {},
   "outputs": [
    {
     "data": {
      "text/plain": [
       "'pa1654'"
      ]
     },
     "execution_count": 123,
     "metadata": {},
     "output_type": "execute_result"
    }
   ],
   "source": [
    "# Determine PA# nearest to median\n",
    "median_index = np.where(lines == find_nearest(lines, np.median(lines)))[0][0]\n",
    "app_data[\"program\"][median_index]"
   ]
  },
  {
   "cell_type": "markdown",
   "metadata": {},
   "source": [
    "#### Ideas:\n",
    "- Remove unused applications from dataset, if possible (i.e. not mapped to index page, not frequently used over time frame, Linac)\n",
    "- Weight applications by priority (usage stats and interview criticality), redo analysis to determine window\n",
    "- Use exponential fit, choose windows as integer multiples fit characteristic time constant (instead of standard deviation)\n",
    "\n",
    "Maybe for CD-1, do first and third idea above. Priority weighting can refine estimate for CD-2.\n",
    "\n",
    "John: effort is not linear with lines-of-code. Really wants to see how long it takes to port median application."
   ]
  }
 ],
 "metadata": {
  "kernelspec": {
   "display_name": "Python 3",
   "language": "python",
   "name": "python3"
  },
  "language_info": {
   "codemirror_mode": {
    "name": "ipython",
    "version": 3
   },
   "file_extension": ".py",
   "mimetype": "text/x-python",
   "name": "python",
   "nbconvert_exporter": "python",
   "pygments_lexer": "ipython3",
   "version": "3.11.4"
  },
  "orig_nbformat": 4
 },
 "nbformat": 4,
 "nbformat_minor": 2
}
